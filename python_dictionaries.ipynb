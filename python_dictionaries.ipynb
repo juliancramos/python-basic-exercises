{
  "cells": [
    {
      "cell_type": "markdown",
      "metadata": {
        "id": "FBX9FLvcLov5"
      },
      "source": [
        "# Author: **Julián Ramos**\n",
        "  \n",
        "# ID: **20529240**\n",
        "\n",
        "## Topic: **Python Dictionaries**\n",
        "  \n",
        "**Description:** This notebook demonstrates basic operations with Python dictionaries, including creating a dictionary, accessing values by key, and retrieving all keys and values using dictionary methods.\n"
      ]
    },
    {
      "cell_type": "code",
      "execution_count": 1,
      "metadata": {
        "id": "U6bmqnIDLkQs"
      },
      "outputs": [
        {
          "name": "stdout",
          "output_type": "stream",
          "text": [
            "{'The Bodyguard': 50, 'Back in Black': 50, 'Thriller': 65}\n"
          ]
        }
      ],
      "source": [
        "# Create a dictionary where:\n",
        "# - Keys are album names\n",
        "# - Values are sales in millions\n",
        "album_sales_dict = {\n",
        "    \"The Bodyguard\": 50,\n",
        "    \"Back in Black\": 50,\n",
        "    \"Thriller\": 65\n",
        "}\n",
        "\n",
        "# Print the dictionary to verify its content\n",
        "print(album_sales_dict)\n"
      ]
    },
    {
      "cell_type": "code",
      "execution_count": 2,
      "metadata": {
        "id": "6MAQA8ROLwsS"
      },
      "outputs": [
        {
          "name": "stdout",
          "output_type": "stream",
          "text": [
            "Thriller sales (millions): 65\n"
          ]
        }
      ],
      "source": [
        "# Retrieve the sales figure for \"Thriller\" using its key\n",
        "thriller_sales = album_sales_dict[\"Thriller\"]\n",
        "print(\"Thriller sales (millions):\", thriller_sales)\n"
      ]
    },
    {
      "cell_type": "code",
      "execution_count": 3,
      "metadata": {
        "id": "qHlKw7nCLxsr"
      },
      "outputs": [
        {
          "name": "stdout",
          "output_type": "stream",
          "text": [
            "Album names: dict_keys(['The Bodyguard', 'Back in Black', 'Thriller'])\n"
          ]
        }
      ],
      "source": [
        "# Get all album names (keys) from the dictionary\n",
        "album_names = album_sales_dict.keys()\n",
        "print(\"Album names:\", album_names)\n"
      ]
    },
    {
      "cell_type": "code",
      "execution_count": 4,
      "metadata": {
        "id": "pp7WA_ChLzRY"
      },
      "outputs": [
        {
          "name": "stdout",
          "output_type": "stream",
          "text": [
            "Sales values (millions): dict_values([50, 50, 65])\n"
          ]
        }
      ],
      "source": [
        "# Get all sales records (values) from the dictionary\n",
        "sales_values = album_sales_dict.values()\n",
        "print(\"Sales values (millions):\", sales_values)\n"
      ]
    }
  ],
  "metadata": {
    "colab": {
      "provenance": []
    },
    "kernelspec": {
      "display_name": "Python 3",
      "name": "python3"
    },
    "language_info": {
      "codemirror_mode": {
        "name": "ipython",
        "version": 3
      },
      "file_extension": ".py",
      "mimetype": "text/x-python",
      "name": "python",
      "nbconvert_exporter": "python",
      "pygments_lexer": "ipython3",
      "version": "3.13.3"
    }
  },
  "nbformat": 4,
  "nbformat_minor": 0
}
