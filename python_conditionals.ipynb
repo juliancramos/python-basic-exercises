{
  "nbformat": 4,
  "nbformat_minor": 0,
  "metadata": {
    "colab": {
      "provenance": []
    },
    "kernelspec": {
      "name": "python3",
      "display_name": "Python 3"
    },
    "language_info": {
      "name": "python"
    }
  },
  "cells": [
    {
      "cell_type": "markdown",
      "source": [
        "# Author: **Julián Ramos**\n",
        "  \n",
        "## Topic: **Python Conditional Statements**\n",
        "  \n",
        "**Description:** This notebook demonstrates conditional statements in Python, including `if`, `if-else`, and the use of logical operators `or`.\n"
      ],
      "metadata": {
        "id": "ya11eYISMLBW"
      }
    },
    {
      "cell_type": "code",
      "execution_count": null,
      "metadata": {
        "id": "UFigUVYEMHTX"
      },
      "outputs": [],
      "source": [
        "# Check if the rating of \"Back in Black\" is greater than 8\n",
        "# If true, print \"This album is Amazing!\"\n",
        "back_in_black = 8.5\n",
        "\n",
        "if back_in_black > 8:\n",
        "    print(\"This album is Amazing!\")\n"
      ]
    },
    {
      "cell_type": "code",
      "source": [
        "# If-else statement:\n",
        "# If the rating is greater than 8, print \"This album is Amazing!\"\n",
        "# Otherwise, print \"This album is ok\"\n",
        "if back_in_black > 8:\n",
        "    print(\"This album is Amazing!\")\n",
        "else:\n",
        "    print(\"This album is ok\")\n"
      ],
      "metadata": {
        "id": "yqGFXeCkMUkE"
      },
      "execution_count": null,
      "outputs": []
    },
    {
      "cell_type": "code",
      "source": [
        "# Check if an album was released before 1980 OR in 1991 OR in 1993\n",
        "# If the condition is true, print the release year\n",
        "lanzamiento = 1900\n",
        "\n",
        "if lanzamiento < 1980 or lanzamiento == 1991 or lanzamiento == 1993:\n",
        "    print(lanzamiento)\n"
      ],
      "metadata": {
        "id": "qWCp3GnTMVwW"
      },
      "execution_count": null,
      "outputs": []
    }
  ]
}