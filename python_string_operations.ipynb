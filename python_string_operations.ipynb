{
  "nbformat": 4,
  "nbformat_minor": 0,
  "metadata": {
    "colab": {
      "provenance": []
    },
    "kernelspec": {
      "name": "python3",
      "display_name": "Python 3"
    },
    "language_info": {
      "name": "python"
    }
  },
  "cells": [
    {
      "cell_type": "markdown",
      "source": [
        "# Author: **Julián Ramos**\n",
        "## Topic: **Basic String Operations in Python**\n",
        "### Description:\n",
        "This notebook demonstrates basic string operations in Python, including concatenation, slicing, indexing, case conversion and escaping characters.\n"
      ],
      "metadata": {
        "id": "1YfrsiWd1SM9"
      }
    },
    {
      "cell_type": "code",
      "execution_count": null,
      "metadata": {
        "id": "eC4sOKi30MFZ"
      },
      "outputs": [],
      "source": [
        "# Assign a string value \"1\" to variable A\n",
        "A = \"1\"  # Stored as a string, not a number\n",
        "print(A)"
      ]
    },
    {
      "cell_type": "code",
      "source": [
        "# Assign a string value \"2\" to variable B\n",
        "B = \"2\"  # Stored as a string, not a number\n",
        "print(B)"
      ],
      "metadata": {
        "id": "mZWNX2dl2X5E"
      },
      "execution_count": null,
      "outputs": []
    },
    {
      "cell_type": "code",
      "source": [
        "# Concatenate strings A and B\n",
        "C = A + B  # Result is \"12\"\n",
        "print(C)\n"
      ],
      "metadata": {
        "id": "Y4_t2-yX2a1O"
      },
      "execution_count": null,
      "outputs": []
    },
    {
      "cell_type": "code",
      "source": [
        "# Get the first three characters from string D using slicing\n",
        "D = \"ABCDEFG\"\n",
        "print(D[:3])\n"
      ],
      "metadata": {
        "id": "lUJ8NJDp2cWF"
      },
      "execution_count": null,
      "outputs": []
    },
    {
      "cell_type": "code",
      "source": [
        "# Get every second character from string E using a stride of 2\n",
        "E = 'clocrkr1e1c1t'\n",
        "print(E[::2])\n"
      ],
      "metadata": {
        "id": "xgDsZZbS2dyk"
      },
      "execution_count": null,
      "outputs": []
    },
    {
      "cell_type": "code",
      "source": [
        "# Print a single backslash\n",
        "print(\"\\\\\")\n"
      ],
      "metadata": {
        "id": "YQ_ydB3a2fg-"
      },
      "execution_count": null,
      "outputs": []
    },
    {
      "cell_type": "code",
      "source": [
        "# Convert a string to uppercase\n",
        "f = \"contenido\"\n",
        "F = f.upper()\n",
        "print(F)\n"
      ],
      "metadata": {
        "id": "rg1O2AC02grI"
      },
      "execution_count": null,
      "outputs": []
    },
    {
      "cell_type": "code",
      "source": [
        "# Find the index of the first occurrence of \"snow\" in string G\n",
        "G = (\"Mary had a little lamb Little lamb, little lamb Mary had a little lamb \"\n",
        "     \"Its fleece was white as snow And everywhere that Mary went Mary went, Mary went \"\n",
        "     \"Everywhere that Mary went The lamb was sure to go\")\n",
        "print(G.find(\"snow\"))  # Returns the starting index of \"snow\"\n"
      ],
      "metadata": {
        "id": "hXnwat9Y2iWU"
      },
      "execution_count": null,
      "outputs": []
    }
  ]
}