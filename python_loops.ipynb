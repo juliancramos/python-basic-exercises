{
  "cells": [
    {
      "cell_type": "markdown",
      "metadata": {
        "id": "zj3uRBZJNL1M"
      },
      "source": [
        "# Author: **Julián Ramos**\n",
        "\n",
        "# ID: **20529240**\n",
        "  \n",
        "## Topic: **Python Loops**\n",
        "  \n",
        "**Description:** This notebook demonstrates the use of `for` and `while` loops in Python, including iterating over ranges and lists, breaking out of a loop based on conditions.\n"
      ]
    },
    {
      "cell_type": "code",
      "execution_count": 6,
      "metadata": {
        "id": "w1gV4rV4NLSU"
      },
      "outputs": [
        {
          "name": "stdout",
          "output_type": "stream",
          "text": [
            "-5\n",
            "-4\n",
            "-3\n",
            "-2\n",
            "-1\n",
            "0\n",
            "1\n",
            "2\n",
            "3\n",
            "4\n",
            "5\n"
          ]
        }
      ],
      "source": [
        "# FOR loop printing numbers from -5 to 5\n",
        "for i in range(-5, 6):\n",
        "    print(i)\n"
      ]
    },
    {
      "cell_type": "code",
      "execution_count": 7,
      "metadata": {
        "id": "jqR1OvgkNI_V"
      },
      "outputs": [
        {
          "name": "stdout",
          "output_type": "stream",
          "text": [
            "rock\n",
            "R&B\n",
            "Soundtrack\n",
            "R&B\n",
            "soul\n",
            "pop\n"
          ]
        }
      ],
      "source": [
        "# FOR loop printing all elements in the list Genres\n",
        "genres = ['rock', 'R&B', 'Soundtrack', 'R&B', 'soul', 'pop']\n",
        "for genre in genres:\n",
        "    print(genre)\n"
      ]
    },
    {
      "cell_type": "code",
      "execution_count": 8,
      "metadata": {
        "id": "nLR5229TNb5H"
      },
      "outputs": [
        {
          "name": "stdout",
          "output_type": "stream",
          "text": [
            "red\n",
            "yellow\n",
            "green\n",
            "purple\n",
            "blue\n"
          ]
        }
      ],
      "source": [
        "# FOR loop printing all elements in the list squares\n",
        "squares = ['red', 'yellow', 'green', 'purple', 'blue']\n",
        "for square in squares:\n",
        "    print(square)\n"
      ]
    },
    {
      "cell_type": "code",
      "execution_count": 9,
      "metadata": {
        "id": "dCJ7hxbZNd84"
      },
      "outputs": [
        {
          "name": "stdout",
          "output_type": "stream",
          "text": [
            "10\n",
            "9.5\n",
            "10\n",
            "8\n",
            "7.5\n"
          ]
        }
      ],
      "source": [
        "# WHILE loop printing playlist ratings until a rating below 6 is found\n",
        "# The loop stops when it finds a value less than 6\n",
        "playlist_ratings = [10, 9.5, 10, 8, 7.5, 5, 10, 10]\n",
        "i = 0\n",
        "rating = playlist_ratings[i]\n",
        "\n",
        "while rating >= 6:\n",
        "    print(rating)\n",
        "    i += 1\n",
        "    rating = playlist_ratings[i]\n"
      ]
    },
    {
      "cell_type": "code",
      "execution_count": 10,
      "metadata": {
        "id": "Z-cWDDZiNf1G"
      },
      "outputs": [
        {
          "name": "stdout",
          "output_type": "stream",
          "text": [
            "['orange', 'orange']\n"
          ]
        }
      ],
      "source": [
        "# WHILE loop copying 'orange' values from list squares to list new_squares\n",
        "# The loop stops when it finds a value different from 'orange'\n",
        "squares = ['orange', 'orange', 'purple', 'blue', 'orange']\n",
        "new_squares = []\n",
        "i = 0\n",
        "\n",
        "while squares[i] == 'orange':\n",
        "    new_squares.append(squares[i])\n",
        "    i += 1\n",
        "\n",
        "print(new_squares)\n"
      ]
    }
  ],
  "metadata": {
    "colab": {
      "provenance": []
    },
    "kernelspec": {
      "display_name": "Python 3",
      "name": "python3"
    },
    "language_info": {
      "codemirror_mode": {
        "name": "ipython",
        "version": 3
      },
      "file_extension": ".py",
      "mimetype": "text/x-python",
      "name": "python",
      "nbconvert_exporter": "python",
      "pygments_lexer": "ipython3",
      "version": "3.13.3"
    }
  },
  "nbformat": 4,
  "nbformat_minor": 0
}
