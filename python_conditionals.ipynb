{
  "cells": [
    {
      "cell_type": "markdown",
      "metadata": {
        "id": "ya11eYISMLBW"
      },
      "source": [
        "# Author: **Julián Ramos**\n",
        "\n",
        "# ID: **20529240**\n",
        "  \n",
        "## Topic: **Python Conditional Statements**\n",
        "  \n",
        "**Description:** This notebook demonstrates conditional statements in Python, including `if`, `if-else`, and the use of logical operators `or`.\n"
      ]
    },
    {
      "cell_type": "code",
      "execution_count": 1,
      "metadata": {
        "id": "UFigUVYEMHTX"
      },
      "outputs": [
        {
          "name": "stdout",
          "output_type": "stream",
          "text": [
            "This album is Amazing!\n"
          ]
        }
      ],
      "source": [
        "# Check if the rating of \"Back in Black\" is greater than 8\n",
        "# If true, print \"This album is Amazing!\"\n",
        "back_in_black = 8.5\n",
        "\n",
        "if back_in_black > 8:\n",
        "    print(\"This album is Amazing!\")\n"
      ]
    },
    {
      "cell_type": "code",
      "execution_count": 2,
      "metadata": {
        "id": "yqGFXeCkMUkE"
      },
      "outputs": [
        {
          "name": "stdout",
          "output_type": "stream",
          "text": [
            "This album is Amazing!\n"
          ]
        }
      ],
      "source": [
        "# If-else statement:\n",
        "# If the rating is greater than 8, print \"This album is Amazing!\"\n",
        "# Otherwise, print \"This album is ok\"\n",
        "if back_in_black > 8:\n",
        "    print(\"This album is Amazing!\")\n",
        "else:\n",
        "    print(\"This album is ok\")\n"
      ]
    },
    {
      "cell_type": "code",
      "execution_count": 3,
      "metadata": {
        "id": "qWCp3GnTMVwW"
      },
      "outputs": [
        {
          "name": "stdout",
          "output_type": "stream",
          "text": [
            "1900\n"
          ]
        }
      ],
      "source": [
        "# Check if an album was released before 1980 OR in 1991 OR in 1993\n",
        "# If the condition is true, print the release year\n",
        "lanzamiento = 1900\n",
        "\n",
        "if lanzamiento < 1980 or lanzamiento == 1991 or lanzamiento == 1993:\n",
        "    print(lanzamiento)\n"
      ]
    }
  ],
  "metadata": {
    "colab": {
      "provenance": []
    },
    "kernelspec": {
      "display_name": "Python 3",
      "name": "python3"
    },
    "language_info": {
      "codemirror_mode": {
        "name": "ipython",
        "version": 3
      },
      "file_extension": ".py",
      "mimetype": "text/x-python",
      "name": "python",
      "nbconvert_exporter": "python",
      "pygments_lexer": "ipython3",
      "version": "3.13.3"
    }
  },
  "nbformat": 4,
  "nbformat_minor": 0
}
