{
  "nbformat": 4,
  "nbformat_minor": 0,
  "metadata": {
    "colab": {
      "provenance": []
    },
    "kernelspec": {
      "name": "python3",
      "display_name": "Python 3"
    },
    "language_info": {
      "name": "python"
    }
  },
  "cells": [
    {
      "cell_type": "markdown",
      "source": [
        "# Author: **Julián Ramos**\n",
        "  \n",
        "## Topic: **Python Loops**\n",
        "  \n",
        "**Description:** This notebook demonstrates the use of `for` and `while` loops in Python, including iterating over ranges and lists, breaking out of a loop based on conditions.\n"
      ],
      "metadata": {
        "id": "zj3uRBZJNL1M"
      }
    },
    {
      "cell_type": "code",
      "source": [
        "# FOR loop printing numbers from -5 to 5\n",
        "for i in range(-5, 6):\n",
        "    print(i)\n"
      ],
      "metadata": {
        "id": "w1gV4rV4NLSU"
      },
      "execution_count": null,
      "outputs": []
    },
    {
      "cell_type": "code",
      "execution_count": null,
      "metadata": {
        "id": "jqR1OvgkNI_V"
      },
      "outputs": [],
      "source": [
        "# FOR loop printing all elements in the list Genres\n",
        "genres = ['rock', 'R&B', 'Soundtrack', 'R&B', 'soul', 'pop']\n",
        "for genre in genres:\n",
        "    print(genre)\n"
      ]
    },
    {
      "cell_type": "code",
      "source": [
        "# FOR loop printing all elements in the list squares\n",
        "squares = ['red', 'yellow', 'green', 'purple', 'blue']\n",
        "for square in squares:\n",
        "    print(square)\n"
      ],
      "metadata": {
        "id": "nLR5229TNb5H"
      },
      "execution_count": null,
      "outputs": []
    },
    {
      "cell_type": "code",
      "source": [
        "# WHILE loop printing playlist ratings until a rating below 6 is found\n",
        "# The loop stops when it finds a value less than 6\n",
        "playlist_ratings = [10, 9.5, 10, 8, 7.5, 5, 10, 10]\n",
        "i = 0\n",
        "rating = playlist_ratings[i]\n",
        "\n",
        "while rating >= 6:\n",
        "    print(rating)\n",
        "    i += 1\n",
        "    rating = playlist_ratings[i]\n"
      ],
      "metadata": {
        "id": "dCJ7hxbZNd84"
      },
      "execution_count": null,
      "outputs": []
    },
    {
      "cell_type": "code",
      "source": [
        "# WHILE loop copying 'orange' values from list squares to list new_squares\n",
        "# The loop stops when it finds a value different from 'orange'\n",
        "squares = ['orange', 'orange', 'purple', 'blue', 'orange']\n",
        "new_squares = []\n",
        "i = 0\n",
        "\n",
        "while squares[i] == 'orange':\n",
        "    new_squares.append(squares[i])\n",
        "    i += 1\n",
        "\n",
        "print(new_squares)\n"
      ],
      "metadata": {
        "id": "Z-cWDDZiNf1G"
      },
      "execution_count": null,
      "outputs": []
    }
  ]
}