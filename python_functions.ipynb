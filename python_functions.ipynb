{
  "nbformat": 4,
  "nbformat_minor": 0,
  "metadata": {
    "colab": {
      "provenance": []
    },
    "kernelspec": {
      "name": "python3",
      "display_name": "Python 3"
    },
    "language_info": {
      "name": "python"
    }
  },
  "cells": [
    {
      "cell_type": "markdown",
      "source": [
        "# Author: **Julián Ramos**\n",
        "  \n",
        "## Topic: **Python Functions**\n",
        "  \n",
        "**Description:** This notebook covers creating basic Python functions, calling them with arguments, and understanding how a single function can work with different data types.\n"
      ],
      "metadata": {
        "id": "TjDXlo50OiR9"
      }
    },
    {
      "cell_type": "code",
      "execution_count": null,
      "metadata": {
        "id": "-vHHFcjBOhcW"
      },
      "outputs": [],
      "source": [
        "# Define a function that divides the first input by the second input\n",
        "def division(a, b):\n",
        "    return a / b\n",
        "\n",
        "# Example usage:\n",
        "result = division(10, 2)\n",
        "print(\"Division result:\", result)\n"
      ]
    },
    {
      "cell_type": "code",
      "source": [
        "# Function that returns the sum of two inputs\n",
        "def con(a, b):\n",
        "    return a + b\n"
      ],
      "metadata": {
        "id": "qV1zCKU9O-zw"
      },
      "execution_count": null,
      "outputs": []
    },
    {
      "cell_type": "code",
      "source": [
        "# Using the function 'con' with integers and strings\n",
        "print(con(10, 20))\n",
        "print(con(\"Hello, \", \"world!\"))\n"
      ],
      "metadata": {
        "id": "9diMrLkjPBaH"
      },
      "execution_count": null,
      "outputs": []
    },
    {
      "cell_type": "code",
      "source": [
        "# Using the function 'con' with lists and tuples\n",
        "print(con([1, 2], [3, 4]))\n",
        "print(con((1, 2), (3, 4)))\n"
      ],
      "metadata": {
        "id": "lMLJ5HitPE0L"
      },
      "execution_count": null,
      "outputs": []
    }
  ]
}