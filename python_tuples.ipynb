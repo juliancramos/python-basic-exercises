{
  "nbformat": 4,
  "nbformat_minor": 0,
  "metadata": {
    "colab": {
      "provenance": []
    },
    "kernelspec": {
      "name": "python3",
      "display_name": "Python 3"
    },
    "language_info": {
      "name": "python"
    }
  },
  "cells": [
    {
      "cell_type": "markdown",
      "source": [
        "# Author: **Julián Ramos**\n",
        "  \n",
        "## Topic: **Python Tuples**\n",
        "  \n",
        "**Description:** This notebook practices basic operations with Python tuples, including creation, indexing, slicing, concatenation, nested tuples, and working with functions such as `len()` and `sorted()`."
      ],
      "metadata": {
        "id": "DZDwMBW76HQs"
      }
    },
    {
      "cell_type": "code",
      "execution_count": null,
      "metadata": {
        "id": "bW3XRXT_6Ggc"
      },
      "outputs": [],
      "source": [
        "# Create a tuple named tuple1 containing the elements: \"disco\", 10, 1.2\n",
        "tuple1 = (\"disco\", 10, 1.2)\n",
        "print(tuple1)\n"
      ]
    },
    {
      "cell_type": "code",
      "source": [
        "# Print the second element of tuple1 (index 1)\n",
        "print(tuple1[1])\n"
      ],
      "metadata": {
        "id": "OtNaX6iB6PLR"
      },
      "execution_count": null,
      "outputs": []
    },
    {
      "cell_type": "code",
      "source": [
        "# Print the first three elements of tuple1 using slicing\n",
        "print(tuple1[0:3])\n"
      ],
      "metadata": {
        "id": "ouFyDRHP6Skd"
      },
      "execution_count": null,
      "outputs": []
    },
    {
      "cell_type": "code",
      "source": [
        "# Concatenate tuple1 with another tuple containing \"hard rock\" and 10\n",
        "tuple2 = tuple1 + (\"hard rock\", 10)\n",
        "print(tuple2)\n"
      ],
      "metadata": {
        "id": "wfBgYS4H6UQT"
      },
      "execution_count": null,
      "outputs": []
    },
    {
      "cell_type": "code",
      "source": [
        "# Slice the first two elements of tuple2\n",
        "print(tuple2[0:2])\n"
      ],
      "metadata": {
        "id": "Qv6dVebT6Vtf"
      },
      "execution_count": null,
      "outputs": []
    },
    {
      "cell_type": "code",
      "source": [
        "# Create a tuple with ratings\n",
        "Ratings = (0, 9, 6, 5, 10, 8, 9, 6, 2)\n",
        "print(Ratings)\n"
      ],
      "metadata": {
        "id": "VEaWc0M-6W5f"
      },
      "execution_count": null,
      "outputs": []
    },
    {
      "cell_type": "code",
      "source": [
        "# Sort the tuple Ratings\n",
        "RatingsSorted = sorted(Ratings)\n",
        "print(RatingsSorted)\n"
      ],
      "metadata": {
        "id": "GkedJcT96YhR"
      },
      "execution_count": null,
      "outputs": []
    },
    {
      "cell_type": "code",
      "source": [
        "# Create a nested tuple containing music genres and album details\n",
        "NestedT = ((\"pop\", \"rock\"), (\"disco\", (10, 20)))\n",
        "print(NestedT)\n"
      ],
      "metadata": {
        "id": "e77eV9pW6fL7"
      },
      "execution_count": null,
      "outputs": []
    },
    {
      "cell_type": "code",
      "source": [
        "# Access the second genre in the first nested tuple (\"rock\")\n",
        "print(NestedT[0][1])\n"
      ],
      "metadata": {
        "id": "hjU0t2wQ6hVK"
      },
      "execution_count": null,
      "outputs": []
    },
    {
      "cell_type": "code",
      "source": [
        "# Access the second genre in the first nested tuple (\"rock\")\n",
        "print(NestedT[0][1])\n"
      ],
      "metadata": {
        "id": "QKtDDh4E6h3n"
      },
      "execution_count": null,
      "outputs": []
    }
  ]
}