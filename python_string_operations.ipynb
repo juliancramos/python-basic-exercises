{
  "cells": [
    {
      "cell_type": "markdown",
      "metadata": {
        "id": "1YfrsiWd1SM9"
      },
      "source": [
        "# Author: **Julián Ramos**\n",
        "\n",
        "# ID: **20529240**\n",
        "\n",
        "\n",
        "## Topic: **Basic String Operations in Python**\n",
        "\n",
        "\n",
        "### Description:\n",
        "This notebook demonstrates basic string operations in Python, including concatenation, slicing, indexing, case conversion and escaping characters.\n"
      ]
    },
    {
      "cell_type": "code",
      "execution_count": 2,
      "metadata": {
        "id": "eC4sOKi30MFZ"
      },
      "outputs": [
        {
          "name": "stdout",
          "output_type": "stream",
          "text": [
            "1\n"
          ]
        }
      ],
      "source": [
        "# Assign a string value \"1\" to variable A\n",
        "A = \"1\"  # Stored as a string, not a number\n",
        "print(A)"
      ]
    },
    {
      "cell_type": "code",
      "execution_count": 3,
      "metadata": {
        "id": "mZWNX2dl2X5E"
      },
      "outputs": [
        {
          "name": "stdout",
          "output_type": "stream",
          "text": [
            "2\n"
          ]
        }
      ],
      "source": [
        "# Assign a string value \"2\" to variable B\n",
        "B = \"2\"  # Stored as a string, not a number\n",
        "print(B)"
      ]
    },
    {
      "cell_type": "code",
      "execution_count": 4,
      "metadata": {
        "id": "Y4_t2-yX2a1O"
      },
      "outputs": [
        {
          "name": "stdout",
          "output_type": "stream",
          "text": [
            "12\n"
          ]
        }
      ],
      "source": [
        "# Concatenate strings A and B\n",
        "C = A + B  # Result is \"12\"\n",
        "print(C)\n"
      ]
    },
    {
      "cell_type": "code",
      "execution_count": 5,
      "metadata": {
        "id": "lUJ8NJDp2cWF"
      },
      "outputs": [
        {
          "name": "stdout",
          "output_type": "stream",
          "text": [
            "ABC\n"
          ]
        }
      ],
      "source": [
        "# Get the first three characters from string D using slicing\n",
        "D = \"ABCDEFG\"\n",
        "print(D[:3])\n"
      ]
    },
    {
      "cell_type": "code",
      "execution_count": 6,
      "metadata": {
        "id": "xgDsZZbS2dyk"
      },
      "outputs": [
        {
          "name": "stdout",
          "output_type": "stream",
          "text": [
            "correct\n"
          ]
        }
      ],
      "source": [
        "# Get every second character from string E using a stride of 2\n",
        "E = 'clocrkr1e1c1t'\n",
        "print(E[::2])\n"
      ]
    },
    {
      "cell_type": "code",
      "execution_count": 7,
      "metadata": {
        "id": "YQ_ydB3a2fg-"
      },
      "outputs": [
        {
          "name": "stdout",
          "output_type": "stream",
          "text": [
            "\\\n"
          ]
        }
      ],
      "source": [
        "# Print a single backslash\n",
        "print(\"\\\\\")\n"
      ]
    },
    {
      "cell_type": "code",
      "execution_count": 8,
      "metadata": {
        "id": "rg1O2AC02grI"
      },
      "outputs": [
        {
          "name": "stdout",
          "output_type": "stream",
          "text": [
            "CONTENIDO\n"
          ]
        }
      ],
      "source": [
        "# Convert a string to uppercase\n",
        "f = \"contenido\"\n",
        "F = f.upper()\n",
        "print(F)\n"
      ]
    },
    {
      "cell_type": "code",
      "execution_count": 9,
      "metadata": {
        "id": "hXnwat9Y2iWU"
      },
      "outputs": [
        {
          "name": "stdout",
          "output_type": "stream",
          "text": [
            "95\n"
          ]
        }
      ],
      "source": [
        "# Find the index of the first occurrence of \"snow\" in string G\n",
        "G = (\"Mary had a little lamb Little lamb, little lamb Mary had a little lamb \"\n",
        "     \"Its fleece was white as snow And everywhere that Mary went Mary went, Mary went \"\n",
        "     \"Everywhere that Mary went The lamb was sure to go\")\n",
        "print(G.find(\"snow\"))  # Returns the starting index of \"snow\"\n"
      ]
    }
  ],
  "metadata": {
    "colab": {
      "provenance": []
    },
    "kernelspec": {
      "display_name": "Python 3",
      "name": "python3"
    },
    "language_info": {
      "codemirror_mode": {
        "name": "ipython",
        "version": 3
      },
      "file_extension": ".py",
      "mimetype": "text/x-python",
      "name": "python",
      "nbconvert_exporter": "python",
      "pygments_lexer": "ipython3",
      "version": "3.13.3"
    }
  },
  "nbformat": 4,
  "nbformat_minor": 0
}
