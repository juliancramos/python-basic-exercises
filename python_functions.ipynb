{
  "cells": [
    {
      "cell_type": "markdown",
      "metadata": {
        "id": "TjDXlo50OiR9"
      },
      "source": [
        "# Author: **Julián Ramos**\n",
        "\n",
        "# ID: **20529240**\n",
        "  \n",
        "## Topic: **Python Functions**\n",
        "  \n",
        "**Description:** This notebook covers creating basic Python functions, calling them with arguments, and understanding how a single function can work with different data types.\n"
      ]
    },
    {
      "cell_type": "code",
      "execution_count": 1,
      "metadata": {
        "id": "-vHHFcjBOhcW"
      },
      "outputs": [
        {
          "name": "stdout",
          "output_type": "stream",
          "text": [
            "Division result: 5.0\n"
          ]
        }
      ],
      "source": [
        "# Define a function that divides the first input by the second input\n",
        "def division(a, b):\n",
        "    return a / b\n",
        "\n",
        "# Example usage:\n",
        "result = division(10, 2)\n",
        "print(\"Division result:\", result)\n"
      ]
    },
    {
      "cell_type": "code",
      "execution_count": 2,
      "metadata": {
        "id": "qV1zCKU9O-zw"
      },
      "outputs": [],
      "source": [
        "# Function that returns the sum of two inputs\n",
        "def con(a, b):\n",
        "    return a + b\n"
      ]
    },
    {
      "cell_type": "code",
      "execution_count": 3,
      "metadata": {
        "id": "9diMrLkjPBaH"
      },
      "outputs": [
        {
          "name": "stdout",
          "output_type": "stream",
          "text": [
            "30\n",
            "Hello, world!\n"
          ]
        }
      ],
      "source": [
        "# Using the function 'con' with integers and strings\n",
        "print(con(10, 20))\n",
        "print(con(\"Hello, \", \"world!\"))\n"
      ]
    },
    {
      "cell_type": "code",
      "execution_count": 4,
      "metadata": {
        "id": "lMLJ5HitPE0L"
      },
      "outputs": [
        {
          "name": "stdout",
          "output_type": "stream",
          "text": [
            "[1, 2, 3, 4]\n",
            "(1, 2, 3, 4)\n"
          ]
        }
      ],
      "source": [
        "# Using the function 'con' with lists and tuples\n",
        "print(con([1, 2], [3, 4]))\n",
        "print(con((1, 2), (3, 4)))\n"
      ]
    }
  ],
  "metadata": {
    "colab": {
      "provenance": []
    },
    "kernelspec": {
      "display_name": "Python 3",
      "name": "python3"
    },
    "language_info": {
      "codemirror_mode": {
        "name": "ipython",
        "version": 3
      },
      "file_extension": ".py",
      "mimetype": "text/x-python",
      "name": "python",
      "nbconvert_exporter": "python",
      "pygments_lexer": "ipython3",
      "version": "3.13.3"
    }
  },
  "nbformat": 4,
  "nbformat_minor": 0
}
