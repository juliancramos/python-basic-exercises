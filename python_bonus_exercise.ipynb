{
  "nbformat": 4,
  "nbformat_minor": 0,
  "metadata": {
    "colab": {
      "provenance": []
    },
    "kernelspec": {
      "name": "python3",
      "display_name": "Python 3"
    },
    "language_info": {
      "name": "python"
    }
  },
  "cells": [
    {
      "cell_type": "markdown",
      "source": [
        "# Author: **Julián Ramos**\n",
        "  \n",
        "## Topic: **Python Practice Exercises — Bonus**\n",
        "  \n",
        "**Description:** This notebook solves a series of small Python problems, from simple conditionals to string manipulations.\n"
      ],
      "metadata": {
        "id": "VKKoPvdCSlI4"
      }
    },
    {
      "cell_type": "code",
      "execution_count": 1,
      "metadata": {
        "colab": {
          "base_uri": "https://localhost:8080/"
        },
        "id": "y3n1g1PnSiU8",
        "outputId": "07207bd6-5bfb-4ab9-96d0-99967bda4d5c"
      },
      "outputs": [
        {
          "output_type": "stream",
          "name": "stdout",
          "text": [
            "2\n",
            "5\n"
          ]
        }
      ],
      "source": [
        "# MENOR DE DOS PARES:\n",
        "# Return the smaller of two numbers if both are even.\n",
        "# If one or both are odd, return the larger.\n",
        "def lesser_of_two_evens(a, b):\n",
        "    if a % 2 == 0 and b % 2 == 0:\n",
        "        return min(a, b)\n",
        "    else:\n",
        "        return max(a, b)\n",
        "\n",
        "# Tests\n",
        "print(lesser_of_two_evens(2, 4))\n",
        "print(lesser_of_two_evens(2, 5))"
      ]
    },
    {
      "cell_type": "code",
      "source": [
        "# ANIMAL CRACKERS:\n",
        "# Version using find():\n",
        "# - Find the position of the space that separates the two words.\n",
        "# - Compare the first letter of each word.\n",
        "\n",
        "\n",
        "def animal_crackers(text):\n",
        "    espacio = text.find(\" \")\n",
        "    return text[0].lower() == text[espacio + 1].lower()\n",
        "\n",
        "# Tests\n",
        "print(animal_crackers('Ciudad Calor'))\n",
        "print(animal_crackers('Lugar Frio'))\n"
      ],
      "metadata": {
        "colab": {
          "base_uri": "https://localhost:8080/"
        },
        "id": "XOXCnDwvZQdu",
        "outputId": "335d4404-a32e-49c2-c88d-bfb4d9d632f7"
      },
      "execution_count": 3,
      "outputs": [
        {
          "output_type": "stream",
          "name": "stdout",
          "text": [
            "True\n",
            "False\n"
          ]
        }
      ]
    },
    {
      "cell_type": "code",
      "source": [
        "# HACE VEINTE:\n",
        "# Return True if sum of integers is 20 or if one of them is 20.\n",
        "def makes_twenty(n1, n2):\n",
        "    return (n1 + n2 == 20) or (n1 == 20 or n2 == 20)\n",
        "\n",
        "# Tests\n",
        "print(makes_twenty(20, 10))\n",
        "print(makes_twenty(12, 8))\n",
        "print(makes_twenty(2, 3))\n"
      ],
      "metadata": {
        "colab": {
          "base_uri": "https://localhost:8080/"
        },
        "id": "oxqvyktwZQx8",
        "outputId": "7e5c18ce-6749-47a1-ce3c-416506ad0159"
      },
      "execution_count": 5,
      "outputs": [
        {
          "output_type": "stream",
          "name": "stdout",
          "text": [
            "True\n",
            "True\n",
            "False\n"
          ]
        }
      ]
    },
    {
      "cell_type": "code",
      "source": [
        "# MAYÚSCULAS (old_macdonald):\n",
        "\n",
        "def old_macdonald(name):\n",
        "    if len(name) >= 4:  # at least 4 characters\n",
        "        chars = list(name)\n",
        "        chars[0] = chars[0].upper()\n",
        "        chars[3] = chars[3].upper()\n",
        "        return ''.join(chars)\n",
        "\n",
        "# Test\n",
        "print(old_macdonald('macdonald'))\n"
      ],
      "metadata": {
        "colab": {
          "base_uri": "https://localhost:8080/"
        },
        "id": "oAB-RXwxZ5vu",
        "outputId": "42d02bc7-612f-49af-e60a-0d2bf980d655"
      },
      "execution_count": 6,
      "outputs": [
        {
          "output_type": "stream",
          "name": "stdout",
          "text": [
            "MacDonald\n"
          ]
        }
      ]
    },
    {
      "cell_type": "code",
      "source": [
        "# REVERSE\n",
        "# Given a sentence, return it reversed word-by-word.\n",
        "def master_yoda(text):\n",
        "    return ' '.join(text.split()[::-1])\n",
        "\n",
        "# Tests\n",
        "print(master_yoda('I am home'))\n",
        "print(master_yoda('We are ready'))"
      ],
      "metadata": {
        "colab": {
          "base_uri": "https://localhost:8080/"
        },
        "id": "9WLeIW4Gb5RI",
        "outputId": "75a7a829-a890-4a52-86c0-1ed0fc940035"
      },
      "execution_count": 7,
      "outputs": [
        {
          "output_type": "stream",
          "name": "stdout",
          "text": [
            "home am I\n",
            "ready are We\n"
          ]
        }
      ]
    },
    {
      "cell_type": "code",
      "source": [
        "# Return True if the list contains a 3 next to a 3 (adjacent).\n",
        "def has_33(nums):\n",
        "    for i in range(len(nums) - 1):\n",
        "        if nums[i] == 3 and nums[i + 1] == 3:\n",
        "            return True\n",
        "    return False\n",
        "\n",
        "# tests\n",
        "print(has_33([1, 3, 3]))\n",
        "print(has_33([1, 3, 1, 3]))\n",
        "print(has_33([3, 1, 3]))\n"
      ],
      "metadata": {
        "colab": {
          "base_uri": "https://localhost:8080/"
        },
        "id": "6GDE1HW1asbF",
        "outputId": "11880a82-276b-4d42-967b-86f1b51647d4"
      },
      "execution_count": 10,
      "outputs": [
        {
          "output_type": "stream",
          "name": "stdout",
          "text": [
            "True\n",
            "False\n",
            "False\n"
          ]
        }
      ]
    },
    {
      "cell_type": "code",
      "source": [
        "# For each character in the input string, repeat it 3 times.\n",
        "def paper_doll(text):\n",
        "    return ''.join(ch * 3 for ch in text)\n",
        "\n",
        "# tests\n",
        "print(paper_doll(\"Hello\"))\n",
        "print(paper_doll(\"Mississippi\"))\n"
      ],
      "metadata": {
        "colab": {
          "base_uri": "https://localhost:8080/"
        },
        "id": "ytFxSJq3a2Oc",
        "outputId": "301aa236-1c3a-413a-dcdb-89564229f0c5"
      },
      "execution_count": 11,
      "outputs": [
        {
          "output_type": "stream",
          "name": "stdout",
          "text": [
            "HHHeeellllllooo\n",
            "MMMiiissssssiiissssssiiippppppiii\n"
          ]
        }
      ]
    },
    {
      "cell_type": "code",
      "source": [
        "# BLACKJACK:\n",
        "# Given three integers (1–11), return their sum if <= 21.\n",
        "# If the sum exceeds 21 and there is an 11, reduce the total by 10 once.\n",
        "# If it still exceeds 21, return 'BUST'.\n",
        "def blackjack(a, b, c):\n",
        "    total = a + b + c\n",
        "    if total <= 21:\n",
        "        return total\n",
        "    if 11 in (a, b, c):\n",
        "        total -= 10\n",
        "    return total if total <= 21 else 'BUST'\n",
        "\n",
        "# tests\n",
        "print(blackjack(5, 6, 7))    # 18\n",
        "print(blackjack(9, 9, 9))    # BUST\n",
        "print(blackjack(9, 9, 11))   # 19 (29 -> minus 10)\n"
      ],
      "metadata": {
        "colab": {
          "base_uri": "https://localhost:8080/"
        },
        "id": "iqK86MTka3L5",
        "outputId": "cdea0722-d05d-473a-9a0e-7c70eddb62ce"
      },
      "execution_count": 13,
      "outputs": [
        {
          "output_type": "stream",
          "name": "stdout",
          "text": [
            "18\n",
            "BUST\n",
            "19\n"
          ]
        }
      ]
    }
  ]
}