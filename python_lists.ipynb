{
  "cells": [
    {
      "cell_type": "markdown",
      "metadata": {
        "id": "NECGPJj67e6r"
      },
      "source": [
        "# Author: **Julián Ramos**\n",
        "\n",
        "# ID: **20529240**\n",
        "  \n",
        "## Topic: **Python Lists**\n",
        "  \n",
        "**Description:** This notebook practices core list operations: creating a list, accessing elements by index, retrieving a range of items via slicing, and concatenating two lists.\n"
      ]
    },
    {
      "cell_type": "code",
      "execution_count": 1,
      "metadata": {
        "id": "9cuXby477aAJ"
      },
      "outputs": [
        {
          "name": "stdout",
          "output_type": "stream",
          "text": [
            "[1, 'hello', [1, 2, 3], True]\n"
          ]
        }
      ],
      "source": [
        "# Create a list named a_list with the following elements: 1, \"hello\", [1, 2, 3], and True\n",
        "a_list = [1, \"hello\", [1, 2, 3], True]\n",
        "print(a_list)\n"
      ]
    },
    {
      "cell_type": "code",
      "execution_count": 2,
      "metadata": {
        "id": "venWDzQc7pvC"
      },
      "outputs": [
        {
          "name": "stdout",
          "output_type": "stream",
          "text": [
            "hello\n"
          ]
        }
      ],
      "source": [
        "# Get the value stored at index 1 of a_list (second element)\n",
        "print(a_list[1])\n"
      ]
    },
    {
      "cell_type": "code",
      "execution_count": 3,
      "metadata": {
        "id": "8DgaiA597qkx"
      },
      "outputs": [
        {
          "name": "stdout",
          "output_type": "stream",
          "text": [
            "hello\n"
          ]
        }
      ],
      "source": [
        "# Get the value stored at index 1 of a_list (second element)\n",
        "print(a_list[1])\n"
      ]
    },
    {
      "cell_type": "code",
      "execution_count": 4,
      "metadata": {
        "id": "i8nMP1X77r4f"
      },
      "outputs": [
        {
          "name": "stdout",
          "output_type": "stream",
          "text": [
            "[1, 'a', 2, 1, 'd']\n"
          ]
        }
      ],
      "source": [
        "# Concatenate the following lists: A = [1, \"a\"] and B = [2, 1, \"d\"]\n",
        "A = [1, \"a\"]\n",
        "B = [2, 1, \"d\"]\n",
        "C = A + B\n",
        "print(C)\n"
      ]
    }
  ],
  "metadata": {
    "colab": {
      "provenance": []
    },
    "kernelspec": {
      "display_name": "Python 3",
      "name": "python3"
    },
    "language_info": {
      "codemirror_mode": {
        "name": "ipython",
        "version": 3
      },
      "file_extension": ".py",
      "mimetype": "text/x-python",
      "name": "python",
      "nbconvert_exporter": "python",
      "pygments_lexer": "ipython3",
      "version": "3.13.3"
    }
  },
  "nbformat": 4,
  "nbformat_minor": 0
}
