{
  "cells": [
    {
      "cell_type": "markdown",
      "metadata": {
        "id": "DZDwMBW76HQs"
      },
      "source": [
        "# Author: **Julián Ramos**\n",
        "\n",
        "# ID: **20529240**\n",
        "  \n",
        "## Topic: **Python Tuples**\n",
        "  \n",
        "**Description:** This notebook practices basic operations with Python tuples, including creation, indexing, slicing, concatenation, nested tuples, and working with functions such as `len()` and `sorted()`."
      ]
    },
    {
      "cell_type": "code",
      "execution_count": 1,
      "metadata": {
        "id": "bW3XRXT_6Ggc"
      },
      "outputs": [
        {
          "name": "stdout",
          "output_type": "stream",
          "text": [
            "('disco', 10, 1.2)\n"
          ]
        }
      ],
      "source": [
        "# Create a tuple named tuple1 containing the elements: \"disco\", 10, 1.2\n",
        "tuple1 = (\"disco\", 10, 1.2)\n",
        "print(tuple1)\n"
      ]
    },
    {
      "cell_type": "code",
      "execution_count": 2,
      "metadata": {
        "id": "OtNaX6iB6PLR"
      },
      "outputs": [
        {
          "name": "stdout",
          "output_type": "stream",
          "text": [
            "10\n"
          ]
        }
      ],
      "source": [
        "# Print the second element of tuple1 (index 1)\n",
        "print(tuple1[1])\n"
      ]
    },
    {
      "cell_type": "code",
      "execution_count": 3,
      "metadata": {
        "id": "ouFyDRHP6Skd"
      },
      "outputs": [
        {
          "name": "stdout",
          "output_type": "stream",
          "text": [
            "('disco', 10, 1.2)\n"
          ]
        }
      ],
      "source": [
        "# Print the first three elements of tuple1 using slicing\n",
        "print(tuple1[0:3])\n"
      ]
    },
    {
      "cell_type": "code",
      "execution_count": 4,
      "metadata": {
        "id": "wfBgYS4H6UQT"
      },
      "outputs": [
        {
          "name": "stdout",
          "output_type": "stream",
          "text": [
            "('disco', 10, 1.2, 'hard rock', 10)\n"
          ]
        }
      ],
      "source": [
        "# Concatenate tuple1 with another tuple containing \"hard rock\" and 10\n",
        "tuple2 = tuple1 + (\"hard rock\", 10)\n",
        "print(tuple2)\n"
      ]
    },
    {
      "cell_type": "code",
      "execution_count": 5,
      "metadata": {
        "id": "Qv6dVebT6Vtf"
      },
      "outputs": [
        {
          "name": "stdout",
          "output_type": "stream",
          "text": [
            "('disco', 10)\n"
          ]
        }
      ],
      "source": [
        "# Slice the first two elements of tuple2\n",
        "print(tuple2[0:2])\n"
      ]
    },
    {
      "cell_type": "code",
      "execution_count": 6,
      "metadata": {
        "id": "VEaWc0M-6W5f"
      },
      "outputs": [
        {
          "name": "stdout",
          "output_type": "stream",
          "text": [
            "(0, 9, 6, 5, 10, 8, 9, 6, 2)\n"
          ]
        }
      ],
      "source": [
        "# Create a tuple with ratings\n",
        "Ratings = (0, 9, 6, 5, 10, 8, 9, 6, 2)\n",
        "print(Ratings)\n"
      ]
    },
    {
      "cell_type": "code",
      "execution_count": 7,
      "metadata": {
        "id": "GkedJcT96YhR"
      },
      "outputs": [
        {
          "name": "stdout",
          "output_type": "stream",
          "text": [
            "[0, 2, 5, 6, 6, 8, 9, 9, 10]\n"
          ]
        }
      ],
      "source": [
        "# Sort the tuple Ratings\n",
        "RatingsSorted = sorted(Ratings)\n",
        "print(RatingsSorted)\n"
      ]
    },
    {
      "cell_type": "code",
      "execution_count": 8,
      "metadata": {
        "id": "e77eV9pW6fL7"
      },
      "outputs": [
        {
          "name": "stdout",
          "output_type": "stream",
          "text": [
            "(('pop', 'rock'), ('disco', (10, 20)))\n"
          ]
        }
      ],
      "source": [
        "# Create a nested tuple containing music genres and album details\n",
        "NestedT = ((\"pop\", \"rock\"), (\"disco\", (10, 20)))\n",
        "print(NestedT)\n"
      ]
    },
    {
      "cell_type": "code",
      "execution_count": 9,
      "metadata": {
        "id": "hjU0t2wQ6hVK"
      },
      "outputs": [
        {
          "name": "stdout",
          "output_type": "stream",
          "text": [
            "rock\n"
          ]
        }
      ],
      "source": [
        "# Access the second genre in the first nested tuple (\"rock\")\n",
        "print(NestedT[0][1])\n"
      ]
    },
    {
      "cell_type": "code",
      "execution_count": 10,
      "metadata": {
        "id": "QKtDDh4E6h3n"
      },
      "outputs": [
        {
          "name": "stdout",
          "output_type": "stream",
          "text": [
            "rock\n"
          ]
        }
      ],
      "source": [
        "# Access the second genre in the first nested tuple (\"rock\")\n",
        "print(NestedT[0][1])\n"
      ]
    }
  ],
  "metadata": {
    "colab": {
      "provenance": []
    },
    "kernelspec": {
      "display_name": "Python 3",
      "name": "python3"
    },
    "language_info": {
      "codemirror_mode": {
        "name": "ipython",
        "version": 3
      },
      "file_extension": ".py",
      "mimetype": "text/x-python",
      "name": "python",
      "nbconvert_exporter": "python",
      "pygments_lexer": "ipython3",
      "version": "3.13.3"
    }
  },
  "nbformat": 4,
  "nbformat_minor": 0
}
