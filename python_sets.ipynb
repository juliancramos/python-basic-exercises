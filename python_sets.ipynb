{
  "nbformat": 4,
  "nbformat_minor": 0,
  "metadata": {
    "colab": {
      "provenance": []
    },
    "kernelspec": {
      "name": "python3",
      "display_name": "Python 3"
    },
    "language_info": {
      "name": "python"
    }
  },
  "cells": [
    {
      "cell_type": "markdown",
      "source": [
        "# Author: **Julián Ramos**\n",
        "  \n",
        "## Topic: **Python Sets**\n",
        "  \n",
        "**Description:** This notebook applies basic operations with Python sets, such as converting lists to sets to remove duplicates, checking set properties, and performing set operations like union and subset checking.\n"
      ],
      "metadata": {
        "id": "P-yXNNIY-YoU"
      }
    },
    {
      "cell_type": "code",
      "execution_count": null,
      "metadata": {
        "id": "rC7EcOmw-EEw"
      },
      "outputs": [],
      "source": [
        "# Transform the list ['rap','house','electronic music', 'rap'] into a set\n",
        "music_list = ['rap', 'house', 'electronic music', 'rap']\n",
        "music_set = set(music_list)\n",
        "print(music_set)\n"
      ]
    },
    {
      "cell_type": "code",
      "source": [
        "# Given a list A with duplicates and a set B with the same elements\n",
        "A = [1, 2, 2, 1]  # This list contains duplicate values (1 and 2 appear twice)\n",
        "B = set([1, 2, 2, 1])  # The set automatically removes duplicates\n",
        "\n",
        "print(\"A:\", A)\n",
        "print(\"B:\", B)  # No duplicates are allowed in a set\n",
        "\n",
        "# Sum of all elements in the list A\n",
        "print(\"Sum of A:\", sum(A))  # Counts all elements, including duplicates\n",
        "\n",
        "# Sum of all elements in the set B\n",
        "print(\"Sum of B:\", sum(B))  # Only counts each unique element once\n",
        "\n",
        "# The set has fewer elements because duplicates are removed\n"
      ],
      "metadata": {
        "id": "4b5OFrt0-rwJ"
      },
      "execution_count": null,
      "outputs": []
    },
    {
      "cell_type": "code",
      "source": [
        "# Create a new set album_set3 that is the union of album_set1 and album_set2\n",
        "album_set1 = set([\"Thriller\", 'AC/DC', 'Back in Black'])\n",
        "album_set2 = set([\"AC/DC\", \"Back in Black\", \"The Dark Side of the Moon\"])\n",
        "album_set3 = album_set1.union(album_set2)\n",
        "print(album_set3)\n"
      ],
      "metadata": {
        "id": "_HHEYz6L-r_T"
      },
      "execution_count": null,
      "outputs": []
    },
    {
      "cell_type": "code",
      "source": [
        "# Check if album_set1 is a subset of album_set3\n",
        "print(album_set1.issubset(album_set3))\n"
      ],
      "metadata": {
        "id": "DEjw2WJ3-vRc"
      },
      "execution_count": null,
      "outputs": []
    }
  ]
}