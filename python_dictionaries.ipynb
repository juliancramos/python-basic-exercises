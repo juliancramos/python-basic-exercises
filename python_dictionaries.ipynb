{
  "nbformat": 4,
  "nbformat_minor": 0,
  "metadata": {
    "colab": {
      "provenance": []
    },
    "kernelspec": {
      "name": "python3",
      "display_name": "Python 3"
    },
    "language_info": {
      "name": "python"
    }
  },
  "cells": [
    {
      "cell_type": "markdown",
      "source": [
        "# Author: **Julián Ramos**\n",
        "  \n",
        "## Topic: **Python Dictionaries**\n",
        "  \n",
        "**Description:** This notebook demonstrates basic operations with Python dictionaries, including creating a dictionary, accessing values by key, and retrieving all keys and values using dictionary methods.\n"
      ],
      "metadata": {
        "id": "FBX9FLvcLov5"
      }
    },
    {
      "cell_type": "code",
      "execution_count": null,
      "metadata": {
        "id": "U6bmqnIDLkQs"
      },
      "outputs": [],
      "source": [
        "# Create a dictionary where:\n",
        "# - Keys are album names\n",
        "# - Values are sales in millions\n",
        "album_sales_dict = {\n",
        "    \"The Bodyguard\": 50,\n",
        "    \"Back in Black\": 50,\n",
        "    \"Thriller\": 65\n",
        "}\n",
        "\n",
        "# Print the dictionary to verify its content\n",
        "print(album_sales_dict)\n"
      ]
    },
    {
      "cell_type": "code",
      "source": [
        "# Retrieve the sales figure for \"Thriller\" using its key\n",
        "thriller_sales = album_sales_dict[\"Thriller\"]\n",
        "print(\"Thriller sales (millions):\", thriller_sales)\n"
      ],
      "metadata": {
        "id": "6MAQA8ROLwsS"
      },
      "execution_count": null,
      "outputs": []
    },
    {
      "cell_type": "code",
      "source": [
        "# Get all album names (keys) from the dictionary\n",
        "album_names = album_sales_dict.keys()\n",
        "print(\"Album names:\", album_names)\n"
      ],
      "metadata": {
        "id": "qHlKw7nCLxsr"
      },
      "execution_count": null,
      "outputs": []
    },
    {
      "cell_type": "code",
      "source": [
        "# Get all sales records (values) from the dictionary\n",
        "sales_values = album_sales_dict.values()\n",
        "print(\"Sales values (millions):\", sales_values)\n"
      ],
      "metadata": {
        "id": "pp7WA_ChLzRY"
      },
      "execution_count": null,
      "outputs": []
    }
  ]
}