{
  "cells": [
    {
      "cell_type": "markdown",
      "metadata": {
        "id": "P-yXNNIY-YoU"
      },
      "source": [
        "# Author: **Julián Ramos**\n",
        "\n",
        "# ID: **20529240**\n",
        "  \n",
        "## Topic: **Python Sets**\n",
        "  \n",
        "**Description:** This notebook applies basic operations with Python sets, such as converting lists to sets to remove duplicates, checking set properties, and performing set operations like union and subset checking.\n"
      ]
    },
    {
      "cell_type": "code",
      "execution_count": 1,
      "metadata": {
        "id": "rC7EcOmw-EEw"
      },
      "outputs": [
        {
          "name": "stdout",
          "output_type": "stream",
          "text": [
            "{'house', 'electronic music', 'rap'}\n"
          ]
        }
      ],
      "source": [
        "# Transform the list ['rap','house','electronic music', 'rap'] into a set\n",
        "music_list = ['rap', 'house', 'electronic music', 'rap']\n",
        "music_set = set(music_list)\n",
        "print(music_set)\n"
      ]
    },
    {
      "cell_type": "code",
      "execution_count": 2,
      "metadata": {
        "id": "4b5OFrt0-rwJ"
      },
      "outputs": [
        {
          "name": "stdout",
          "output_type": "stream",
          "text": [
            "A: [1, 2, 2, 1]\n",
            "B: {1, 2}\n",
            "Sum of A: 6\n",
            "Sum of B: 3\n"
          ]
        }
      ],
      "source": [
        "# Given a list A with duplicates and a set B with the same elements\n",
        "A = [1, 2, 2, 1]  # This list contains duplicate values (1 and 2 appear twice)\n",
        "B = set([1, 2, 2, 1])  # The set automatically removes duplicates\n",
        "\n",
        "print(\"A:\", A)\n",
        "print(\"B:\", B)  # No duplicates are allowed in a set\n",
        "\n",
        "# Sum of all elements in the list A\n",
        "print(\"Sum of A:\", sum(A))  # Counts all elements, including duplicates\n",
        "\n",
        "# Sum of all elements in the set B\n",
        "print(\"Sum of B:\", sum(B))  # Only counts each unique element once\n",
        "\n",
        "# The set has fewer elements because duplicates are removed\n"
      ]
    },
    {
      "cell_type": "code",
      "execution_count": 3,
      "metadata": {
        "id": "_HHEYz6L-r_T"
      },
      "outputs": [
        {
          "name": "stdout",
          "output_type": "stream",
          "text": [
            "{'AC/DC', 'The Dark Side of the Moon', 'Back in Black', 'Thriller'}\n"
          ]
        }
      ],
      "source": [
        "# Create a new set album_set3 that is the union of album_set1 and album_set2\n",
        "album_set1 = set([\"Thriller\", 'AC/DC', 'Back in Black'])\n",
        "album_set2 = set([\"AC/DC\", \"Back in Black\", \"The Dark Side of the Moon\"])\n",
        "album_set3 = album_set1.union(album_set2)\n",
        "print(album_set3)\n"
      ]
    },
    {
      "cell_type": "code",
      "execution_count": 4,
      "metadata": {
        "id": "DEjw2WJ3-vRc"
      },
      "outputs": [
        {
          "name": "stdout",
          "output_type": "stream",
          "text": [
            "True\n"
          ]
        }
      ],
      "source": [
        "# Check if album_set1 is a subset of album_set3\n",
        "print(album_set1.issubset(album_set3))\n"
      ]
    }
  ],
  "metadata": {
    "colab": {
      "provenance": []
    },
    "kernelspec": {
      "display_name": "Python 3",
      "name": "python3"
    },
    "language_info": {
      "codemirror_mode": {
        "name": "ipython",
        "version": 3
      },
      "file_extension": ".py",
      "mimetype": "text/x-python",
      "name": "python",
      "nbconvert_exporter": "python",
      "pygments_lexer": "ipython3",
      "version": "3.13.3"
    }
  },
  "nbformat": 4,
  "nbformat_minor": 0
}
