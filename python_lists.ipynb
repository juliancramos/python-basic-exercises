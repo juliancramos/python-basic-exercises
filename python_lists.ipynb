{
  "nbformat": 4,
  "nbformat_minor": 0,
  "metadata": {
    "colab": {
      "provenance": []
    },
    "kernelspec": {
      "name": "python3",
      "display_name": "Python 3"
    },
    "language_info": {
      "name": "python"
    }
  },
  "cells": [
    {
      "cell_type": "markdown",
      "source": [
        "# Author: **Julián Ramos**\n",
        "  \n",
        "## Topic: **Python Lists**\n",
        "  \n",
        "**Description:** This notebook practices core list operations: creating a list, accessing elements by index, retrieving a range of items via slicing, and concatenating two lists.\n"
      ],
      "metadata": {
        "id": "NECGPJj67e6r"
      }
    },
    {
      "cell_type": "code",
      "execution_count": null,
      "metadata": {
        "id": "9cuXby477aAJ"
      },
      "outputs": [],
      "source": [
        "# Create a list named a_list with the following elements: 1, \"hello\", [1, 2, 3], and True\n",
        "a_list = [1, \"hello\", [1, 2, 3], True]\n",
        "print(a_list)\n"
      ]
    },
    {
      "cell_type": "code",
      "source": [
        "# Get the value stored at index 1 of a_list (second element)\n",
        "print(a_list[1])\n"
      ],
      "metadata": {
        "id": "venWDzQc7pvC"
      },
      "execution_count": null,
      "outputs": []
    },
    {
      "cell_type": "code",
      "source": [
        "# Get the value stored at index 1 of a_list (second element)\n",
        "print(a_list[1])\n"
      ],
      "metadata": {
        "id": "8DgaiA597qkx"
      },
      "execution_count": null,
      "outputs": []
    },
    {
      "cell_type": "code",
      "source": [
        "# Concatenate the following lists: A = [1, \"a\"] and B = [2, 1, \"d\"]\n",
        "A = [1, \"a\"]\n",
        "B = [2, 1, \"d\"]\n",
        "C = A + B\n",
        "print(C)\n"
      ],
      "metadata": {
        "id": "i8nMP1X77r4f"
      },
      "execution_count": null,
      "outputs": []
    }
  ]
}