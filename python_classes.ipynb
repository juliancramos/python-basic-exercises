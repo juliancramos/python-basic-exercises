{
  "cells": [
    {
      "cell_type": "markdown",
      "metadata": {
        "id": "vXF34WDGRQrG"
      },
      "source": [
        "# Author: **Julián Ramos**\n",
        "\n",
        "# ID: **20529240**\n",
        "  \n",
        "## Topic: **Python Classes**\n",
        "  \n",
        "**Description:** Although no questionnaire was provided for this topic, here is a short example of how to create a simple Python class, create an object from it, and use its methods.\n"
      ]
    },
    {
      "cell_type": "code",
      "execution_count": 1,
      "metadata": {
        "colab": {
          "base_uri": "https://localhost:8080/"
        },
        "id": "FPcMDZK5Qb0o",
        "outputId": "57a0ce5e-b13d-48d7-c90d-350719edcbca"
      },
      "outputs": [
        {
          "name": "stdout",
          "output_type": "stream",
          "text": [
            "\"Back in Black\" by AC/DC (1980) — Rating: 9.0\n",
            "\"Thriller\" by Michael Jackson (1982) — Rating: 9.5\n",
            "Is 'Back in Black' a classic? True\n",
            "Is 'Thriller' a classic? False\n"
          ]
        }
      ],
      "source": [
        "# Define a class to represent a music album\n",
        "class Album:\n",
        "    def __init__(self, title, artist, year, rating):\n",
        "        # Instance attributes\n",
        "        self.title = title\n",
        "        self.artist = artist\n",
        "        self.year = year\n",
        "        self.rating = rating\n",
        "\n",
        "    def description(self):\n",
        "        #Return the description of an album\n",
        "        return f'\"{self.title}\" by {self.artist} ({self.year}) — Rating: {self.rating}'\n",
        "\n",
        "    def is_classic(self):\n",
        "        #Return True if the album was released before 1982.\n",
        "        return self.year < 1982\n",
        "\n",
        "\n",
        "# Create two album objects\n",
        "album1 = Album(\"Back in Black\", \"AC/DC\", 1980, 9.0)\n",
        "album2 = Album(\"Thriller\", \"Michael Jackson\", 1982, 9.5)\n",
        "\n",
        "# Use the description method\n",
        "print(album1.description())\n",
        "print(album2.description())\n",
        "\n",
        "# Check if the albums are considered classics\n",
        "print(f\"Is '{album1.title}' a classic? {album1.is_classic()}\")\n",
        "print(f\"Is '{album2.title}' a classic? {album2.is_classic()}\")\n"
      ]
    }
  ],
  "metadata": {
    "colab": {
      "provenance": []
    },
    "kernelspec": {
      "display_name": "Python 3",
      "name": "python3"
    },
    "language_info": {
      "codemirror_mode": {
        "name": "ipython",
        "version": 3
      },
      "file_extension": ".py",
      "mimetype": "text/x-python",
      "name": "python",
      "nbconvert_exporter": "python",
      "pygments_lexer": "ipython3",
      "version": "3.13.3"
    }
  },
  "nbformat": 4,
  "nbformat_minor": 0
}
